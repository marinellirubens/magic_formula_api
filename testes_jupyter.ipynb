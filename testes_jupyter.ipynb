{
 "cells": [
  {
   "cell_type": "code",
   "execution_count": 1,
   "id": "3daa70eb",
   "metadata": {},
   "outputs": [],
   "source": [
    "import os"
   ]
  },
  {
   "cell_type": "code",
   "execution_count": 7,
   "id": "9d540408",
   "metadata": {},
   "outputs": [],
   "source": [
    "import status_invest"
   ]
  },
  {
   "cell_type": "code",
   "execution_count": 24,
   "id": "0458a423",
   "metadata": {},
   "outputs": [],
   "source": [
    "resp_stocks_info = await status_invest.get_stocks_info()"
   ]
  },
  {
   "cell_type": "code",
   "execution_count": 40,
   "id": "fcdc84d6",
   "metadata": {},
   "outputs": [
    {
     "data": {
      "text/plain": [
       "{'companyid': 252,\n",
       " 'companyname': 'ESTACIO PARTICIPACOES S.A.',\n",
       " 'ticker': 'YDUQ3',\n",
       " 'price': 20.8,\n",
       " 'p_l': 34.18,\n",
       " 'dy': 1.32,\n",
       " 'p_vp': 1.98,\n",
       " 'p_ebit': 7.52,\n",
       " 'p_ativo': 0.66,\n",
       " 'ev_ebit': 12.39,\n",
       " 'margembruta': 59.29,\n",
       " 'margemebit': 17.03,\n",
       " 'margemliquida': 3.75,\n",
       " 'p_sr': 1.28,\n",
       " 'p_capitalgiro': 7.38,\n",
       " 'p_ativocirculante': -0.89,\n",
       " 'giroativos': 0.51,\n",
       " 'roe': 5.81,\n",
       " 'roa': 1.92,\n",
       " 'roic': 9.55,\n",
       " 'dividaliquidapatrimonioliquido': 1.29,\n",
       " 'dividaliquidaebit': 4.87,\n",
       " 'pl_ativo': 0.33,\n",
       " 'passivo_ativo': 0.67,\n",
       " 'liquidezcorrente': 1.52,\n",
       " 'peg_ratio': -0.07,\n",
       " 'receitas_cagr5': 6.2,\n",
       " 'lucros_cagr5': -15.03,\n",
       " 'liquidezmediadiaria': 63657406.91,\n",
       " 'vpa': 10.48,\n",
       " 'lpa': 0.61,\n",
       " 'valormercado': 6429048100.8,\n",
       " 'segmentid': 26,\n",
       " 'sectorid': 2,\n",
       " 'subsectorid': 10,\n",
       " 'subsectorname': 'Diversos',\n",
       " 'segmentname': 'Serviços Educacionais',\n",
       " 'sectorname': 'Consumo Cíclico'}"
      ]
     },
     "execution_count": 40,
     "metadata": {},
     "output_type": "execute_result"
    }
   ],
   "source": [
    "stock = resp_stocks_info.json()[1]\n",
    "stock"
   ]
  },
  {
   "cell_type": "code",
   "execution_count": 39,
   "id": "26144e1d",
   "metadata": {},
   "outputs": [
    {
     "data": {
      "text/plain": [
       "{'ativo': 'YDUQ3',\n",
       " 'empresa': 'ESTACIO PARTICIPACOES S.A.',\n",
       " 'cotação': 20.8,\n",
       " 'p/l': 34.18,\n",
       " 'p/vp': 1.98,\n",
       " 'psr': 1.28,\n",
       " 'dividend yield': 1.32,\n",
       " 'p/ativo': 0.66,\n",
       " 'p/capital de giro': 7.38,\n",
       " 'p/ebit': 7.52,\n",
       " 'p/acl': -0.89,\n",
       " 'ev/ebit': 12.39,\n",
       " 'margem ebit': 17.03,\n",
       " 'margem líquida': 3.75,\n",
       " 'liquidez corrente': 1.52,\n",
       " 'roic': 9.55,\n",
       " 'roe': 5.81,\n",
       " 'cagr lucros 5 anos': -15.03,\n",
       " 'cagr receitas 5 anos': 6.2,\n",
       " 'dívida líquida/patrimônio': 1.29,\n",
       " 'dívida líquida/ebit': 4.87,\n",
       " 'roa': 1.92,\n",
       " 'pl/ativos': 0.33,\n",
       " 'giro ativos': 0.51,\n",
       " 'margem bruta': 59.29,\n",
       " 'passivo/ativo': 0.67,\n",
       " 'liquidez média diária': 63657406.91}"
      ]
     },
     "execution_count": 39,
     "metadata": {},
     "output_type": "execute_result"
    }
   ],
   "source": [
    "\n",
    "{\n",
    "    'ativo': stock.get('ticker'),\n",
    "    'empresa': stock.get('companyname'),\n",
    "    'cotação': stock.get('price'),\n",
    "    'p/l': stock.get('p_l'),\n",
    "    'p/vp': stock.get('p_vp'),\n",
    "    'psr': stock.get('p_sr'),\n",
    "    'dividend yield': stock.get('dy'),\n",
    "    'p/ativo': stock.get('p_ativo'),\n",
    "    'p/capital de giro': stock.get('p_capitalgiro'),\n",
    "    'p/ebit': stock.get('p_ebit'),\n",
    "    'p/acl': stock.get('p_ativocirculante'),\n",
    "    'ev/ebit': stock.get('ev_ebit'),\n",
    "    'margem ebit': stock.get('margemebit'),\n",
    "    'margem líquida': stock.get('margemliquida'),\n",
    "    'liquidez corrente': stock.get('liquidezcorrente'),\n",
    "    'roic': stock.get('roic'),\n",
    "    'roe': stock.get('roe'),\n",
    "    'cagr lucros 5 anos': stock.get('lucros_cagr5'),\n",
    "    'cagr receitas 5 anos': stock.get('receitas_cagr5'),\n",
    "    'dívida líquida/patrimônio': stock.get('dividaliquidapatrimonioliquido'),\n",
    "    'dívida líquida/ebit': stock.get('dividaliquidaebit'),\n",
    "    'roa': stock.get('roa'),\n",
    "    'pl/ativos': stock.get('pl_ativo'),\n",
    "    'giro ativos': stock.get('giroativos'),\n",
    "    'margem bruta': stock.get('margembruta'),\n",
    "    'passivo/ativo': stock.get('passivo_ativo'),\n",
    "    'liquidez média diária': stock.get('liquidezmediadiaria')\n",
    "}\n"
   ]
  },
  {
   "cell_type": "code",
   "execution_count": 15,
   "id": "4d6bf2c7",
   "metadata": {},
   "outputs": [
    {
     "data": {
      "text/plain": [
       "('ZAMP3', <Response [200 OK]>)"
      ]
     },
     "execution_count": 15,
     "metadata": {},
     "output_type": "execute_result"
    }
   ],
   "source": [
    "resp = await status_invest.get_stocks_historical_info('ZAMP3')\n",
    "resp"
   ]
  },
  {
   "cell_type": "code",
   "execution_count": 27,
   "id": "49f595e7",
   "metadata": {
    "scrolled": false
   },
   "outputs": [
    {
     "ename": "TypeError",
     "evalue": "'Response' object is not subscriptable",
     "output_type": "error",
     "traceback": [
      "\u001b[0;31m---------------------------------------------------------------------------\u001b[0m",
      "\u001b[0;31mTypeError\u001b[0m                                 Traceback (most recent call last)",
      "Cell \u001b[0;32mIn[27], line 1\u001b[0m\n\u001b[0;32m----> 1\u001b[0m \u001b[43mresp\u001b[49m\u001b[43m[\u001b[49m\u001b[38;5;241;43m1\u001b[39;49m\u001b[43m]\u001b[49m\u001b[38;5;241m.\u001b[39mjson()\n",
      "\u001b[0;31mTypeError\u001b[0m: 'Response' object is not subscriptable"
     ]
    }
   ],
   "source": [
    "resp[1].json()"
   ]
  },
  {
   "cell_type": "code",
   "execution_count": 222,
   "id": "e8b47eb4",
   "metadata": {},
   "outputs": [
    {
     "data": {
      "text/plain": [
       "('YDUQ3', <Response [200 OK]>)"
      ]
     },
     "execution_count": 222,
     "metadata": {},
     "output_type": "execute_result"
    }
   ],
   "source": [
    "resp_page = await status_invest.get_stocks_page_info('YDUQ3')\n",
    "resp_page"
   ]
  },
  {
   "cell_type": "code",
   "execution_count": 224,
   "id": "407b5f1d",
   "metadata": {},
   "outputs": [],
   "source": [
    "from bs4 import BeautifulSoup\n",
    "from lxml import etree \n",
    "\n",
    "page = BeautifulSoup(resp_page[1].content, \"html.parser\") \n",
    "dom = etree.HTML(str(page)) "
   ]
  },
  {
   "cell_type": "code",
   "execution_count": 284,
   "id": "76c5521c",
   "metadata": {},
   "outputs": [
    {
     "name": "stdout",
     "output_type": "stream",
     "text": [
      "190.172.000.000\n",
      "445.621.000.000\n",
      "73.474.000.000\n",
      "70.289.000.000\n",
      "20.168.000.000\n",
      "50.121.000.000\n",
      "338.836.915.847\n",
      "388.957.915.847\n",
      "4.539.007.580\n",
      "98,01%\n"
     ]
    },
    {
     "data": {
      "text/plain": [
       "{'Patrimônio líquido': 190172000000.0,\n",
       " 'Ativos': 445621000000.0,\n",
       " 'Ativo circulante': 73474000000.0,\n",
       " 'Dívida bruta': 70289000000.0,\n",
       " 'Disponibilidade': 20168000000.0,\n",
       " 'Dívida líquida': 50121000000.0,\n",
       " 'Valor de mercado': 338836915847.0,\n",
       " 'Valor de firma': 388957915847.0,\n",
       " 'Nº total de papéis': 4539007580.0,\n",
       " 'Segmento de listagem': 'Novo Mercado',\n",
       " 'Free Float': 98.01,\n",
       " 'Setor de Atuação': 'Materiais Básicos',\n",
       " 'Subsetor de Atuação': 'Mineração',\n",
       " 'Segmento de Atuação': 'Minerais Metálicos'}"
      ]
     },
     "execution_count": 284,
     "metadata": {},
     "output_type": "execute_result"
    }
   ],
   "source": [
    "def format_stock_page(resp_page):\n",
    "    regex = re.compile('^[^\\d\\,%]*$')\n",
    "    page = BeautifulSoup(resp_page[1].content, \"html.parser\") \n",
    "    dom = etree.HTML(str(page)) \n",
    "    elementos = dom.xpath('//div[@id=\"company-section\"]//div[@class=\"info\"]')\n",
    "    result = {}\n",
    "    tag = ''\n",
    "    for elemento in elementos:\n",
    "        children = elemento.xpath('./div//div//strong|./div//div//h3|./div//div//span[@class=\"d-inline-block mr-2\"]')\n",
    "        for child in children:\n",
    "            if child.text and not child.attrib['class'] == 'title m-0 legend-tooltip':\n",
    "                if child.tag in {'h3', 'span'}:\n",
    "                    tag = child.text\n",
    "                else:\n",
    "                    result[tag] = child.text\n",
    "                    if not regex.match(child.text):\n",
    "                        print(child.text)\n",
    "                        result[tag] = float(child.text.replace('.', '').replace('%', '').replace(',', '.'))\n",
    "\n",
    "                    \n",
    "    elementos_setor = dom.xpath('//div[@id=\"company-section\"]//div[@class=\"top-info top-info-1 top-info-sm-2 top-info-md-n sm d-flex justify-between\"]//div[contains(@class, \"info\")]')\n",
    "    for elemento in elementos_setor:\n",
    "        children = elemento.xpath('./div//div//strong|./div//div//span')\n",
    "        for child in children:\n",
    "            if child.text and not child.attrib['class'] == 'title m-0 legend-tooltip':\n",
    "                if child.tag in {'h3', 'span'}:\n",
    "                    tag = child.text\n",
    "                else:\n",
    "                    result[tag] = child.text\n",
    "    return result\n",
    "\n",
    "resp_page = await status_invest.get_stocks_page_info('VALE3')\n",
    "format_stock_page(resp_page)"
   ]
  },
  {
   "cell_type": "code",
   "execution_count": 313,
   "id": "e0ba7bd6",
   "metadata": {},
   "outputs": [
    {
     "data": {
      "text/plain": [
       "<re.Match object; span=(0, 6), match='-98,01'>"
      ]
     },
     "execution_count": 313,
     "metadata": {},
     "output_type": "execute_result"
    }
   ],
   "source": [
    "import re\n",
    "regex = re.compile('^[-\\d\\,%\\.]*$')\n",
    "regex.match('-98,01')\n",
    "\n"
   ]
  },
  {
   "cell_type": "code",
   "execution_count": 294,
   "id": "82307f0a",
   "metadata": {},
   "outputs": [
    {
     "data": {
      "text/plain": [
       "8.07"
      ]
     },
     "execution_count": 294,
     "metadata": {},
     "output_type": "execute_result"
    }
   ],
   "source": [
    "# 10592034101\n",
    "# 12,39\n",
    "# EV/EBIT = 12,39\n",
    "# 10592034101/EBIT = 12,39\n",
    "10592034101 / 12.39\n",
    "round((854885722.43 / 10592034101) * 100, 2)\n",
    "    "
   ]
  }
 ],
 "metadata": {
  "kernelspec": {
   "display_name": "Python 3 (ipykernel)",
   "language": "python",
   "name": "python3"
  },
  "language_info": {
   "codemirror_mode": {
    "name": "ipython",
    "version": 3
   },
   "file_extension": ".py",
   "mimetype": "text/x-python",
   "name": "python",
   "nbconvert_exporter": "python",
   "pygments_lexer": "ipython3",
   "version": "3.11.5"
  }
 },
 "nbformat": 4,
 "nbformat_minor": 5
}
